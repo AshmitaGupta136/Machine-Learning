{
 "cells": [
  {
   "cell_type": "code",
   "execution_count": null,
   "metadata": {},
   "outputs": [],
   "source": [
    "# Libraries\n",
    "import pandas as pd\n",
    "from sklearn.model_selection import train_test_split, GridSearchCV\n",
    "from sklearn.svm import SVC\n",
    "from sklearn.metrics import accuracy_score\n",
    "import matplotlib.pyplot as plt\n",
    "from sklearn.metrics import confusion_matrix\n",
    "import seaborn as sns"
   ]
  },
  {
   "cell_type": "code",
   "execution_count": null,
   "metadata": {},
   "outputs": [],
   "source": [
    "# load data\n",
    "data = pd.read_csv(\"C:\\\\Users\\\\gashm\\\\OneDrive\\\\Desktop\\\\Machine Learning CS 584\\\\data.csv\", encoding='utf-8')\n",
    "\n",
    "\n",
    "# select features and target variable\n",
    "X = data.drop(['id', 'acceptyear', 'survived', 'survtime'], axis=1)\n",
    "y = data['survived']\n",
    "\n",
    "# split data into training and testing sets\n",
    "X_train, X_test, y_train, y_test = train_test_split(X, y, test_size=0.2, random_state=42)"
   ]
  },
  {
   "cell_type": "code",
   "execution_count": null,
   "metadata": {},
   "outputs": [],
   "source": [
    "# define hyperparameters to tune\n",
    "parameters = {\n",
    "    'C': [0.1, 1, 10],\n",
    "    'kernel': ['poly','sigmoid'],\n",
    "  'degree': [2, 3, 4]\n",
    "}\n",
    "\n",
    "# perform grid search cross-validation\n",
    "svm = SVC()\n",
    "clf = GridSearchCV(svm, parameters, cv=5)\n",
    "clf.fit(X_train, y_train)\n",
    "\n",
    "# print best hyperparameters found\n",
    "print(\"Best parameters found:\", clf.best_params_)"
   ]
  },
  {
   "cell_type": "code",
   "execution_count": null,
   "metadata": {},
   "outputs": [],
   "source": [
    "# train SVM classifier with best hyperparameters\n",
    "svm = SVC(**clf.best_params_)\n",
    "svm.fit(X_train, y_train)\n",
    "\n",
    "# make predictions on the testing set\n",
    "y_pred = svm.predict(X_test)\n",
    "\n",
    "# evaluate model accuracy\n",
    "accuracy = accuracy_score(y_test, y_pred)\n",
    "print(\"Accuracy:\", accuracy)"
   ]
  },
  {
   "cell_type": "code",
   "execution_count": null,
   "metadata": {},
   "outputs": [],
   "source": [
    "cm = confusion_matrix(y_test, y_pred)\n",
    "sns.heatmap(cm, annot=True, fmt=\"d\", cmap=\"YlGnBu\")\n",
    "plt.title(\"Confusion Matrix\")\n",
    "plt.xlabel(\"Predicted Label\")\n",
    "plt.ylabel(\"True Label\")\n",
    "plt.show()\n",
    "\n",
    "\n",
    "sns.countplot(data=data, x='survived')\n",
    "plt.title(\"Distribution of 'survived'\")\n",
    "plt.show()\n",
    "\n",
    "sns.heatmap(data.corr(), annot=True, cmap=\"YlGnBu\")\n",
    "plt.title(\"Correlation Heatmap of Features\")\n",
    "plt.show()"
   ]
  },
  {
   "cell_type": "code",
   "execution_count": null,
   "metadata": {},
   "outputs": [],
   "source": [
    "# draw boxplot\n",
    "sns.boxplot(data=data, x=\"age\")"
   ]
  }
 ],
 "metadata": {
  "language_info": {
   "name": "python"
  },
  "orig_nbformat": 4
 },
 "nbformat": 4,
 "nbformat_minor": 2
}
