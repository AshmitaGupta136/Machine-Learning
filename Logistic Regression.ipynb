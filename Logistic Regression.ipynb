{
 "cells": [
  {
   "cell_type": "code",
   "execution_count": 2,
   "id": "6f8b751f",
   "metadata": {},
   "outputs": [],
   "source": [
    "import pandas as pd\n",
    "from sklearn.model_selection import train_test_split\n",
    "from sklearn.linear_model import LogisticRegression\n",
    "from sklearn.metrics import accuracy_score, confusion_matrix, classification_report\n",
    "from sklearn.feature_selection import SelectFromModel\n",
    "import seaborn as sns\n",
    "import matplotlib.pyplot as plt\n",
    "from sklearn.svm import SVC\n",
    "from sklearn.metrics import accuracy_score\n",
    "\n",
    "# load data\n",
    "# data = pd.read_csv(\"C://Users//gashm//OneDrive//Desktop//Machine Learning CS 584//data.csv\")\n",
    "data = pd.read_csv(\"resample_train_smote.csv\", encoding='utf-8')\n",
    "data = data.drop(columns = ['Unnamed: 0'])\n",
    "\n",
    "test = pd.read_csv(\"heart.csv\", encoding='utf-8')\n",
    "test = test.drop(columns = ['Unnamed: 0'])\n",
    "\n",
    "\n",
    "# select features and target variable\n",
    "X = data.drop(['survived'], axis=1)\n",
    "y = data['survived']\n",
    "\n",
    "\n",
    "final_test_X = test.drop(['survived'], axis=1)\n",
    "final_test_y = test['survived']"
   ]
  },
  {
   "cell_type": "code",
   "execution_count": 3,
   "id": "dd333f1e",
   "metadata": {},
   "outputs": [
    {
     "name": "stdout",
     "output_type": "stream",
     "text": [
      "Selected Features: ['id', 'wait', 'age', 'acceptyear', 'prior', 'transplant', 'survtime']\n"
     ]
    }
   ],
   "source": [
    "# split data into training and testing sets\n",
    "X_train, X_test, y_train, y_test = train_test_split(X, y, test_size=0.3, random_state=42)\n",
    "\n",
    "# feature selection using L1 regularization\n",
    "logreg = LogisticRegression(penalty='l1', solver='liblinear')\n",
    "selector = SelectFromModel(logreg)\n",
    "selector.fit(X_train, y_train)\n",
    "\n",
    "# print selected features\n",
    "selected_features = X.columns[selector.get_support()]\n",
    "print(\"Selected Features:\", list(selected_features))\n"
   ]
  },
  {
   "cell_type": "code",
   "execution_count": 4,
   "id": "1c385121",
   "metadata": {},
   "outputs": [
    {
     "name": "stdout",
     "output_type": "stream",
     "text": [
      "Training Accuracy: 0.9701058201058201\n",
      "Validation set Accuracy: 0.9604938271604938\n",
      "Testing Accuracy: 0.563953488372093\n"
     ]
    },
    {
     "name": "stderr",
     "output_type": "stream",
     "text": [
      "/opt/homebrew/lib/python3.11/site-packages/sklearn/base.py:432: UserWarning: X has feature names, but LogisticRegression was fitted without feature names\n",
      "  warnings.warn(\n",
      "/opt/homebrew/lib/python3.11/site-packages/sklearn/base.py:432: UserWarning: X has feature names, but LogisticRegression was fitted without feature names\n",
      "  warnings.warn(\n"
     ]
    }
   ],
   "source": [
    "# train logistic regression model with selected features\n",
    "X_train_selected = selector.transform(X_train)\n",
    "X_test_selected = selector.transform(X_test)\n",
    "logreg.fit(X_train_selected, y_train)\n",
    "\n",
    "# make predictions on the testing set\n",
    "y_pred = logreg.predict(X_test_selected)\n",
    "# y_pred = rf.predict(X_test)\n",
    "tr_pred = logreg.predict(X_train)\n",
    "final_pred = logreg.predict(final_test_X)\n",
    "# evaluate model accuracy\n",
    "# accuracy = accuracy_score(y_test, y_pred)\n",
    "# print(\"Accuracy:\", accuracy)\n",
    "\n",
    "tr_accuracy = accuracy_score(y_train, tr_pred)\n",
    "print(\"Training Accuracy:\", tr_accuracy)\n",
    "\n",
    "# Evaluate model accuracy\n",
    "accuracy = accuracy_score(y_test, y_pred)\n",
    "print(\"Validation set Accuracy:\", accuracy)\n",
    "\n",
    "test_accuracy = accuracy_score(final_test_y, final_pred)\n",
    "print(\"Testing Accuracy:\", test_accuracy)\n"
   ]
  },
  {
   "cell_type": "code",
   "execution_count": 6,
   "id": "67493c59",
   "metadata": {},
   "outputs": [
    {
     "name": "stdout",
     "output_type": "stream",
     "text": [
      "Precision: 0.977491961414791\n",
      "Recall: 0.9812782440284055\n"
     ]
    }
   ],
   "source": [
    "from sklearn.metrics import precision_score, recall_score\n",
    "precision = precision_score(y_test, y_pred)\n",
    "recall = recall_score(y_test, y_pred)\n",
    "print(\"Precision:\", precision)\n",
    "print(\"Recall:\", recall)\n"
   ]
  },
  {
   "cell_type": "code",
   "execution_count": 7,
   "id": "413147c8",
   "metadata": {},
   "outputs": [
    {
     "data": {
      "image/png": "[encoded data removed]",
      "text/plain": [
       "<Figure size 640x480 with 2 Axes>"
      ]
     },
     "metadata": {},
     "output_type": "display_data"
    }
   ],
   "source": [
    "# plot confusion matrix\n",
    "cm = confusion_matrix(y_test, y_pred)\n",
    "sns.heatmap(cm, annot=True, cmap='Blues')\n",
    "plt.title('Confusion Matrix')\n",
    "plt.xlabel('Predicted Label')\n",
    "plt.ylabel('True Label')\n",
    "plt.show()"
   ]
  },
  {
   "cell_type": "code",
   "execution_count": null,
   "id": "0c41da87",
   "metadata": {},
   "outputs": [],
   "source": []
  }
 ],
 "metadata": {
  "kernelspec": {
   "display_name": "Python 3",
   "language": "python",
   "name": "python3"
  },
  "language_info": {
   "codemirror_mode": {
    "name": "ipython",
    "version": 3
   },
   "file_extension": ".py",
   "mimetype": "text/x-python",
   "name": "python",
   "nbconvert_exporter": "python",
   "pygments_lexer": "ipython3",
   "version": "3.11.3"
  },
  "vscode": {
   "interpreter": {
    "hash": "b0fa6594d8f4cbf19f97940f81e996739fb7646882a419484c72d19e05852a7e"
   }
  }
 },
 "nbformat": 4,
 "nbformat_minor": 5
}
