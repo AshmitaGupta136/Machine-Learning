{
 "cells": [
  {
   "cell_type": "code",
   "execution_count": 1,
   "id": "37af6630",
   "metadata": {},
   "outputs": [],
   "source": [
    "import pandas as pd\n",
    "from sklearn.model_selection import train_test_split, GridSearchCV\n",
    "from sklearn.svm import SVC\n",
    "from sklearn.metrics import accuracy_score, confusion_matrix, precision_score, recall_score\n",
    "import seaborn as sns\n",
    "import matplotlib.pyplot as plt\n",
    "\n",
    "# Load data\n",
    "# data = pd.read_csv(\"C:\\\\Users\\\\gashm\\\\OneDrive\\\\Desktop\\\\Machine Learning CS 584\\\\data.csv\", encoding='utf-8')\n",
    "data = pd.read_csv(\"data.csv\", encoding='utf-8')\n",
    "\n",
    "# Select features and target variable\n",
    "X = data.drop(['survived'], axis=1)\n",
    "y = data['survived']\n",
    "\n",
    "# Split data into training and testing sets\n",
    "X_train, X_test, y_train, y_test = train_test_split(X, y, test_size=0.2, random_state=42)\n",
    "\n",
    "# Define hyperparameters to tune\n",
    "parameters = {\n",
    "    'C': [0.1, 1, 10, 100, 1000],\n",
    "    'kernel': ['linear', 'poly', 'rbf', 'sigmoid'],\n",
    "    'degree': [2, 3, 4],\n",
    "    'gamma': ['scale', 'auto'] + [0.01, 0.1, 1, 10]\n",
    "}\n",
    "\n",
    "# Perform grid search cross-validation\n",
    "svm = SVC()\n",
    "clf = GridSearchCV(svm, parameters, cv=5)\n",
    "clf.fit(X_train, y_train)\n",
    "\n",
    "# Print best hyperparameters found\n",
    "print(\"Best parameters found:\", clf.best_params_)\n",
    "\n",
    "# Train SVM classifier with best hyperparameters\n",
    "svm = SVC(**clf.best_params_)\n",
    "svm.fit(X_train, y_train)\n",
    "\n",
    "# Make predictions on the testing set\n",
    "y_pred = svm.predict(X_test)\n",
    "\n",
    "# Evaluate model accuracy\n",
    "accuracy = accuracy_score(y_test, y_pred)\n",
    "print(\"Accuracy:\", accuracy)\n",
    "\n",
    "# Confusion matrix\n",
    "cm = confusion_matrix(y_test, y_pred)\n",
    "sns.heatmap(cm, annot=True, fmt=\"d\", cmap=\"YlGnBu\")\n",
    "plt.title(\"Confusion Matrix\")\n",
    "plt.xlabel(\"Predicted Label\")\n",
    "plt.ylabel(\"True Label\")\n",
    "plt.show()\n",
    "\n",
    "# Precision and recall scores\n",
    "precision = precision_score(y_test, y_pred)\n",
    "recall = recall_score(y_test, y_pred)\n",
    "print(\"Precision:\", precision)\n",
    "print(\"Recall:\", recall)\n",
    "\n",
    "# Distribution of 'survived' target variable\n",
    "sns.countplot(data=data, x='survived')\n",
    "plt.title(\"Distribution of 'survived'\")\n",
    "plt.show()\n",
    "\n",
    "# Correlation heatmap of features\n",
    "sns.heatmap(data.corr(), annot=True, cmap=\"YlGnBu\")\n",
    "plt.title(\"Correlation Heatmap of Features\")\n",
    "plt.show()\n",
    "\n",
    "# Boxplot of 'age' feature\n",
    "sns.boxplot(data=data, x=\"age\")\n"
   ]
  },
  {
   "cell_type": "code",
   "execution_count": null,
   "id": "89a8bf02",
   "metadata": {},
   "outputs": [],
   "source": []
  }
 ],
 "metadata": {
  "kernelspec": {
   "display_name": "Python 3",
   "language": "python",
   "name": "python3"
  },
  "language_info": {
   "codemirror_mode": {
    "name": "ipython",
    "version": 3
   },
   "file_extension": ".py",
   "mimetype": "text/x-python",
   "name": "python",
   "nbconvert_exporter": "python",
   "pygments_lexer": "ipython3",
   "version": "3.11.3"
  },
  "vscode": {
   "interpreter": {
    "hash": "b0fa6594d8f4cbf19f97940f81e996739fb7646882a419484c72d19e05852a7e"
   }
  }
 },
 "nbformat": 4,
 "nbformat_minor": 5
}
